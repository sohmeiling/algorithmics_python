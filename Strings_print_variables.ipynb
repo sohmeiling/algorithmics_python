{
 "cells": [
  {
   "cell_type": "markdown",
   "id": "167300f2",
   "metadata": {},
   "source": [
    "# Strings\n",
    "\n",
    "In this section, we will talk about\n",
    "- definition of strings\n",
    "- conversion to strings"
   ]
  },
  {
   "cell_type": "markdown",
   "id": "d37ce375",
   "metadata": {},
   "source": [
    "### Basics"
   ]
  },
  {
   "cell_type": "code",
   "execution_count": null,
   "id": "a2540c40",
   "metadata": {},
   "outputs": [],
   "source": [
    "\"this is a string that is also a sentence\""
   ]
  },
  {
   "cell_type": "code",
   "execution_count": null,
   "id": "4c441e24",
   "metadata": {},
   "outputs": [],
   "source": [
    "'this'"
   ]
  },
  {
   "cell_type": "code",
   "execution_count": null,
   "id": "6d2502d5",
   "metadata": {},
   "outputs": [],
   "source": [
    "'t'"
   ]
  },
  {
   "cell_type": "code",
   "execution_count": null,
   "id": "4137a70b",
   "metadata": {},
   "outputs": [],
   "source": [
    "'598798234792'"
   ]
  },
  {
   "cell_type": "code",
   "execution_count": null,
   "id": "51f3366a",
   "metadata": {},
   "outputs": [],
   "source": [
    "\"this is a string too\""
   ]
  },
  {
   "cell_type": "code",
   "execution_count": null,
   "id": "6fdb6b43",
   "metadata": {},
   "outputs": [],
   "source": [
    "\"\"\"\n",
    "put \n",
    "things\n",
    "on \n",
    "multiple \n",
    "lines\n",
    "\"\"\""
   ]
  },
  {
   "cell_type": "code",
   "execution_count": 3,
   "id": "06f16514",
   "metadata": {},
   "outputs": [
    {
     "name": "stdout",
     "output_type": "stream",
     "text": [
      "1234567890\n"
     ]
    }
   ],
   "source": [
    "convert_num_to_string = str(1234567890)\n",
    "\n",
    "print(convert_num_to_string)"
   ]
  },
  {
   "cell_type": "markdown",
   "id": "2085fbe2",
   "metadata": {},
   "source": [
    "### print()"
   ]
  },
  {
   "cell_type": "code",
   "execution_count": null,
   "id": "74d065ce",
   "metadata": {},
   "outputs": [],
   "source": [
    "'string 1'\n",
    "'string 2'\n",
    "'string 3'"
   ]
  },
  {
   "cell_type": "code",
   "execution_count": null,
   "id": "4682765e",
   "metadata": {},
   "outputs": [],
   "source": [
    "print('string 1')\n",
    "print('string 2')\n",
    "print('string 3')"
   ]
  },
  {
   "cell_type": "code",
   "execution_count": null,
   "id": "2691c810",
   "metadata": {},
   "outputs": [],
   "source": []
  },
  {
   "cell_type": "markdown",
   "id": "7a702e83",
   "metadata": {},
   "source": [
    "### Variables"
   ]
  },
  {
   "cell_type": "code",
   "execution_count": null,
   "id": "5eb528f0",
   "metadata": {},
   "outputs": [],
   "source": [
    "word = \"Microphone\""
   ]
  },
  {
   "cell_type": "code",
   "execution_count": null,
   "id": "f96d82b3",
   "metadata": {},
   "outputs": [],
   "source": [
    "word"
   ]
  },
  {
   "cell_type": "code",
   "execution_count": null,
   "id": "e02d0ac8",
   "metadata": {},
   "outputs": [],
   "source": [
    "word = \"Camera\""
   ]
  },
  {
   "cell_type": "code",
   "execution_count": null,
   "id": "7bdd2936",
   "metadata": {},
   "outputs": [],
   "source": [
    "word"
   ]
  },
  {
   "cell_type": "code",
   "execution_count": null,
   "id": "50b4099f",
   "metadata": {},
   "outputs": [],
   "source": [
    "singleQuotation = 'Do as the romans do... so don\\'t write camel case'"
   ]
  },
  {
   "cell_type": "code",
   "execution_count": null,
   "id": "cc9a3baa",
   "metadata": {},
   "outputs": [],
   "source": [
    "singleQuotation"
   ]
  },
  {
   "cell_type": "code",
   "execution_count": null,
   "id": "f60189d0",
   "metadata": {},
   "outputs": [],
   "source": [
    "doubleQuotation = \"Do as the romans do... so don't write camel case\""
   ]
  },
  {
   "cell_type": "code",
   "execution_count": null,
   "id": "78eaa3e8",
   "metadata": {},
   "outputs": [],
   "source": [
    "doubleQuotation"
   ]
  },
  {
   "cell_type": "code",
   "execution_count": null,
   "id": "99d2e251",
   "metadata": {},
   "outputs": [],
   "source": []
  },
  {
   "cell_type": "markdown",
   "id": "42450433",
   "metadata": {},
   "source": [
    "### Concatenating strings"
   ]
  },
  {
   "cell_type": "markdown",
   "id": "863fc555",
   "metadata": {},
   "source": [
    "If you use '+' , you will need to include an additional space."
   ]
  },
  {
   "cell_type": "code",
   "execution_count": null,
   "id": "e20059c1",
   "metadata": {},
   "outputs": [],
   "source": [
    "print('My name is ' + 'Mei Ling.')"
   ]
  },
  {
   "cell_type": "markdown",
   "id": "fbb941e0",
   "metadata": {},
   "source": [
    "However, if you use ',', you do not need to include additional space."
   ]
  },
  {
   "cell_type": "code",
   "execution_count": null,
   "id": "c7f8c6e3",
   "metadata": {},
   "outputs": [],
   "source": [
    "print('My name is', 'Mei Ling.')"
   ]
  },
  {
   "cell_type": "markdown",
   "id": "d6012893",
   "metadata": {},
   "source": [
    "You can also combine variable with strings."
   ]
  },
  {
   "cell_type": "code",
   "execution_count": null,
   "id": "ef1d622a",
   "metadata": {},
   "outputs": [],
   "source": [
    "name = 'Mei Ling'\n",
    "\n",
    "print('My name is', name + '.')"
   ]
  },
  {
   "cell_type": "markdown",
   "id": "88a43c77",
   "metadata": {},
   "source": [
    "### Interpolation"
   ]
  },
  {
   "cell_type": "code",
   "execution_count": null,
   "id": "e6fa8da2",
   "metadata": {},
   "outputs": [],
   "source": [
    "word = \"Microphone\""
   ]
  },
  {
   "cell_type": "code",
   "execution_count": null,
   "id": "bb3f0ffe",
   "metadata": {},
   "outputs": [],
   "source": [
    "f\"My word is: {word}\""
   ]
  },
  {
   "cell_type": "code",
   "execution_count": null,
   "id": "0533b45c",
   "metadata": {},
   "outputs": [],
   "source": [
    "my_name = \"Mei\""
   ]
  },
  {
   "cell_type": "code",
   "execution_count": null,
   "id": "398c78d5",
   "metadata": {},
   "outputs": [],
   "source": [
    "f\"Hi my name is {my_name}\""
   ]
  },
  {
   "cell_type": "code",
   "execution_count": null,
   "id": "26df0e91",
   "metadata": {},
   "outputs": [],
   "source": [
    "name = \"Max\"\n",
    "colour = \"⬛️\"\n",
    "country = \"🇨🇦\"\n",
    "\n",
    "f\"Hi, my name is {name}, my favourite colour is {colour}, and I live in {country}\""
   ]
  },
  {
   "cell_type": "code",
   "execution_count": null,
   "id": "9baa6da6",
   "metadata": {},
   "outputs": [],
   "source": []
  },
  {
   "cell_type": "markdown",
   "id": "f9b5942b",
   "metadata": {},
   "source": [
    "### Strings methods\n",
    "\n",
    "Important! Python is case-sensitive."
   ]
  },
  {
   "cell_type": "markdown",
   "id": "75eca3cb",
   "metadata": {},
   "source": [
    "There are a few common ones:\n",
    "\n",
    "- lower()\n",
    "- upper()\n",
    "- title()\n",
    "- find()"
   ]
  },
  {
   "cell_type": "code",
   "execution_count": null,
   "id": "ab676a46",
   "metadata": {},
   "outputs": [],
   "source": [
    "\"ABCDEFGHIJKLMNOPQRSTUVWXYZ\".lower()"
   ]
  },
  {
   "cell_type": "code",
   "execution_count": null,
   "id": "56d92d78",
   "metadata": {},
   "outputs": [],
   "source": [
    "name = 'MEI LING'\n",
    "name_low = name.lower()\n",
    "\n",
    "print(name_low)"
   ]
  },
  {
   "cell_type": "code",
   "execution_count": null,
   "id": "ac8eaa43",
   "metadata": {},
   "outputs": [],
   "source": [
    "name = 'mei ling'\n",
    "name_up = name.upper()\n",
    "\n",
    "print(name_up)"
   ]
  },
  {
   "cell_type": "code",
   "execution_count": null,
   "id": "9f397d26",
   "metadata": {},
   "outputs": [],
   "source": [
    "name = 'mei ling'\n",
    "name_title = name.title()\n",
    "\n",
    "print(name_title)"
   ]
  },
  {
   "cell_type": "code",
   "execution_count": null,
   "id": "b4dc1c27",
   "metadata": {},
   "outputs": [],
   "source": []
  },
  {
   "cell_type": "markdown",
   "id": "0ce6d2b7",
   "metadata": {},
   "source": [
    "You can find the position (i.e., index) of the word in the string. Remember, index starts from 0 in strings."
   ]
  },
  {
   "cell_type": "code",
   "execution_count": null,
   "id": "5ae9c3c2",
   "metadata": {},
   "outputs": [],
   "source": [
    "text = 'Hi, my name is Mei Ling.'\n",
    "\n",
    "text_position = text.find('mei')\n",
    "print(text_position)"
   ]
  },
  {
   "cell_type": "code",
   "execution_count": null,
   "id": "e4aa0de7",
   "metadata": {},
   "outputs": [],
   "source": [
    "text = 'Hi, my name is Mei Ling.'\n",
    "\n",
    "Mei_position = text.find('Mei')\n",
    "print(Mei_position)"
   ]
  },
  {
   "cell_type": "code",
   "execution_count": null,
   "id": "00a7c804",
   "metadata": {},
   "outputs": [],
   "source": [
    "text = 'Hi, my name is Mei Ling.'\n",
    "\n",
    "hi_position = text.find('Hi')\n",
    "print(hi_position)"
   ]
  },
  {
   "cell_type": "markdown",
   "id": "9346872a",
   "metadata": {},
   "source": [
    "### `in`"
   ]
  },
  {
   "cell_type": "code",
   "execution_count": null,
   "id": "66610d2e",
   "metadata": {},
   "outputs": [],
   "source": [
    "text = 'Hi, my name is Mei Ling.'\n",
    "\n",
    "'mei' in text"
   ]
  },
  {
   "cell_type": "code",
   "execution_count": null,
   "id": "fc773b18",
   "metadata": {},
   "outputs": [],
   "source": [
    "text = 'Hi, my name is Mei Ling.'\n",
    "\n",
    "'Mei' in text"
   ]
  },
  {
   "cell_type": "markdown",
   "id": "112d6698",
   "metadata": {},
   "source": [
    "### Slicing\n",
    "How you can slice the letter/word from the strings"
   ]
  },
  {
   "cell_type": "code",
   "execution_count": null,
   "id": "945f59fa",
   "metadata": {},
   "outputs": [],
   "source": [
    "text = 'Hi, my name is Mei Ling.'\n",
    "\n",
    "print(text[15])"
   ]
  },
  {
   "cell_type": "markdown",
   "id": "20ead271",
   "metadata": {},
   "source": [
    "When you slice using range, the text slices [1: n-1]"
   ]
  },
  {
   "cell_type": "code",
   "execution_count": null,
   "id": "4c933475",
   "metadata": {},
   "outputs": [],
   "source": [
    "text = 'Hi, my name is Mei Ling.'\n",
    "\n",
    "print(text[15:18])"
   ]
  },
  {
   "cell_type": "code",
   "execution_count": null,
   "id": "ee452b8c",
   "metadata": {},
   "outputs": [],
   "source": []
  }
 ],
 "metadata": {
  "kernelspec": {
   "display_name": "ds_env",
   "language": "python",
   "name": "ds_env"
  },
  "language_info": {
   "codemirror_mode": {
    "name": "ipython",
    "version": 3
   },
   "file_extension": ".py",
   "mimetype": "text/x-python",
   "name": "python",
   "nbconvert_exporter": "python",
   "pygments_lexer": "ipython3",
   "version": "3.10.9"
  }
 },
 "nbformat": 4,
 "nbformat_minor": 5
}
