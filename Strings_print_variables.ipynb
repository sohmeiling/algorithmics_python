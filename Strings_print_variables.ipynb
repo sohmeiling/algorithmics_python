{
 "cells": [
  {
   "cell_type": "markdown",
   "id": "167300f2",
   "metadata": {},
   "source": [
    "# Strings\n",
    "\n",
    "In this section, we will talk about\n",
    "- definition of strings\n",
    "- conversion to strings"
   ]
  },
  {
   "cell_type": "markdown",
   "id": "d37ce375",
   "metadata": {},
   "source": [
    "### Basics"
   ]
  },
  {
   "cell_type": "code",
   "execution_count": 2,
   "id": "a2540c40",
   "metadata": {},
   "outputs": [
    {
     "data": {
      "text/plain": [
       "'this is a string that is also a sentence'"
      ]
     },
     "execution_count": 2,
     "metadata": {},
     "output_type": "execute_result"
    }
   ],
   "source": [
    "\"this is a string that is also a sentence\""
   ]
  },
  {
   "cell_type": "code",
   "execution_count": 3,
   "id": "4c441e24",
   "metadata": {},
   "outputs": [
    {
     "data": {
      "text/plain": [
       "'this'"
      ]
     },
     "execution_count": 3,
     "metadata": {},
     "output_type": "execute_result"
    }
   ],
   "source": [
    "'this'"
   ]
  },
  {
   "cell_type": "code",
   "execution_count": 4,
   "id": "6d2502d5",
   "metadata": {},
   "outputs": [
    {
     "data": {
      "text/plain": [
       "'t'"
      ]
     },
     "execution_count": 4,
     "metadata": {},
     "output_type": "execute_result"
    }
   ],
   "source": [
    "'t'"
   ]
  },
  {
   "cell_type": "code",
   "execution_count": 5,
   "id": "4137a70b",
   "metadata": {},
   "outputs": [
    {
     "data": {
      "text/plain": [
       "'598798234792'"
      ]
     },
     "execution_count": 5,
     "metadata": {},
     "output_type": "execute_result"
    }
   ],
   "source": [
    "'598798234792'"
   ]
  },
  {
   "cell_type": "code",
   "execution_count": 6,
   "id": "51f3366a",
   "metadata": {},
   "outputs": [
    {
     "data": {
      "text/plain": [
       "'this is a string too'"
      ]
     },
     "execution_count": 6,
     "metadata": {},
     "output_type": "execute_result"
    }
   ],
   "source": [
    "\"this is a string too\""
   ]
  },
  {
   "cell_type": "code",
   "execution_count": 7,
   "id": "6fdb6b43",
   "metadata": {},
   "outputs": [
    {
     "data": {
      "text/plain": [
       "'\\nput \\nthings\\non \\nmultiple \\nlines\\n'"
      ]
     },
     "execution_count": 7,
     "metadata": {},
     "output_type": "execute_result"
    }
   ],
   "source": [
    "\"\"\"\n",
    "put \n",
    "things\n",
    "on \n",
    "multiple \n",
    "lines\n",
    "\"\"\""
   ]
  },
  {
   "cell_type": "code",
   "execution_count": null,
   "id": "06f16514",
   "metadata": {},
   "outputs": [],
   "source": []
  },
  {
   "cell_type": "markdown",
   "id": "2085fbe2",
   "metadata": {},
   "source": [
    "### print()"
   ]
  },
  {
   "cell_type": "code",
   "execution_count": 8,
   "id": "74d065ce",
   "metadata": {},
   "outputs": [
    {
     "data": {
      "text/plain": [
       "'string 3'"
      ]
     },
     "execution_count": 8,
     "metadata": {},
     "output_type": "execute_result"
    }
   ],
   "source": [
    "'string 1'\n",
    "'string 2'\n",
    "'string 3'"
   ]
  },
  {
   "cell_type": "code",
   "execution_count": 9,
   "id": "4682765e",
   "metadata": {},
   "outputs": [
    {
     "name": "stdout",
     "output_type": "stream",
     "text": [
      "string 1\n",
      "string 2\n",
      "string 3\n"
     ]
    }
   ],
   "source": [
    "print('string 1')\n",
    "print('string 2')\n",
    "print('string 3')"
   ]
  },
  {
   "cell_type": "code",
   "execution_count": null,
   "id": "2691c810",
   "metadata": {},
   "outputs": [],
   "source": []
  },
  {
   "cell_type": "markdown",
   "id": "7a702e83",
   "metadata": {},
   "source": [
    "### Variables"
   ]
  },
  {
   "cell_type": "code",
   "execution_count": 10,
   "id": "5eb528f0",
   "metadata": {},
   "outputs": [],
   "source": [
    "word = \"Microphone\""
   ]
  },
  {
   "cell_type": "code",
   "execution_count": 11,
   "id": "f96d82b3",
   "metadata": {},
   "outputs": [
    {
     "data": {
      "text/plain": [
       "'Microphone'"
      ]
     },
     "execution_count": 11,
     "metadata": {},
     "output_type": "execute_result"
    }
   ],
   "source": [
    "word"
   ]
  },
  {
   "cell_type": "code",
   "execution_count": 12,
   "id": "e02d0ac8",
   "metadata": {},
   "outputs": [],
   "source": [
    "word = \"Camera\""
   ]
  },
  {
   "cell_type": "code",
   "execution_count": 13,
   "id": "7bdd2936",
   "metadata": {},
   "outputs": [
    {
     "data": {
      "text/plain": [
       "'Camera'"
      ]
     },
     "execution_count": 13,
     "metadata": {},
     "output_type": "execute_result"
    }
   ],
   "source": [
    "word"
   ]
  },
  {
   "cell_type": "code",
   "execution_count": 17,
   "id": "50b4099f",
   "metadata": {},
   "outputs": [],
   "source": [
    "singleQuotation = 'Do as the romans do... so don\\'t write camel case'"
   ]
  },
  {
   "cell_type": "code",
   "execution_count": 18,
   "id": "cc9a3baa",
   "metadata": {},
   "outputs": [
    {
     "data": {
      "text/plain": [
       "\"Do as the romans do... so don't write camel case\""
      ]
     },
     "execution_count": 18,
     "metadata": {},
     "output_type": "execute_result"
    }
   ],
   "source": [
    "singleQuotation"
   ]
  },
  {
   "cell_type": "code",
   "execution_count": 21,
   "id": "f60189d0",
   "metadata": {},
   "outputs": [],
   "source": [
    "doubleQuotation = \"Do as the romans do... so don't write camel case\""
   ]
  },
  {
   "cell_type": "code",
   "execution_count": 22,
   "id": "78eaa3e8",
   "metadata": {},
   "outputs": [
    {
     "data": {
      "text/plain": [
       "\"Do as the romans do... so don't write camel case\""
      ]
     },
     "execution_count": 22,
     "metadata": {},
     "output_type": "execute_result"
    }
   ],
   "source": [
    "doubleQuotation"
   ]
  },
  {
   "cell_type": "code",
   "execution_count": null,
   "id": "99d2e251",
   "metadata": {},
   "outputs": [],
   "source": []
  },
  {
   "cell_type": "markdown",
   "id": "42450433",
   "metadata": {},
   "source": [
    "### Concatenating strings"
   ]
  },
  {
   "cell_type": "markdown",
   "id": "863fc555",
   "metadata": {},
   "source": [
    "If you use '+' , you will need to include an additional space."
   ]
  },
  {
   "cell_type": "code",
   "execution_count": 32,
   "id": "e20059c1",
   "metadata": {},
   "outputs": [
    {
     "name": "stdout",
     "output_type": "stream",
     "text": [
      "My name is Mei Ling\n"
     ]
    }
   ],
   "source": [
    "print('My name is ' + 'Mei Ling.')"
   ]
  },
  {
   "cell_type": "markdown",
   "id": "fbb941e0",
   "metadata": {},
   "source": [
    "However, if you use ',', you do not need to include additional space."
   ]
  },
  {
   "cell_type": "code",
   "execution_count": 31,
   "id": "c7f8c6e3",
   "metadata": {},
   "outputs": [
    {
     "name": "stdout",
     "output_type": "stream",
     "text": [
      "My name is Mei Ling\n"
     ]
    }
   ],
   "source": [
    "print('My name is', 'Mei Ling.')"
   ]
  },
  {
   "cell_type": "markdown",
   "id": "d6012893",
   "metadata": {},
   "source": [
    "You can also combine variable with strings."
   ]
  },
  {
   "cell_type": "code",
   "execution_count": 36,
   "id": "ef1d622a",
   "metadata": {},
   "outputs": [
    {
     "name": "stdout",
     "output_type": "stream",
     "text": [
      "My name is Mei Ling.\n"
     ]
    }
   ],
   "source": [
    "name = 'Mei Ling'\n",
    "\n",
    "print('My name is', name + '.')"
   ]
  },
  {
   "cell_type": "markdown",
   "id": "88a43c77",
   "metadata": {},
   "source": [
    "### Interpolation"
   ]
  },
  {
   "cell_type": "code",
   "execution_count": 23,
   "id": "e6fa8da2",
   "metadata": {},
   "outputs": [],
   "source": [
    "word = \"Microphone\""
   ]
  },
  {
   "cell_type": "code",
   "execution_count": 24,
   "id": "bb3f0ffe",
   "metadata": {},
   "outputs": [
    {
     "data": {
      "text/plain": [
       "'My word is: Microphone'"
      ]
     },
     "execution_count": 24,
     "metadata": {},
     "output_type": "execute_result"
    }
   ],
   "source": [
    "f\"My word is: {word}\""
   ]
  },
  {
   "cell_type": "code",
   "execution_count": 27,
   "id": "0533b45c",
   "metadata": {},
   "outputs": [],
   "source": [
    "my_name = \"Mei\""
   ]
  },
  {
   "cell_type": "code",
   "execution_count": 28,
   "id": "398c78d5",
   "metadata": {},
   "outputs": [
    {
     "data": {
      "text/plain": [
       "'Hi my name is Mei'"
      ]
     },
     "execution_count": 28,
     "metadata": {},
     "output_type": "execute_result"
    }
   ],
   "source": [
    "f\"Hi my name is {my_name}\""
   ]
  },
  {
   "cell_type": "code",
   "execution_count": 29,
   "id": "26df0e91",
   "metadata": {},
   "outputs": [
    {
     "data": {
      "text/plain": [
       "'Hi, my name is Max, my favourite colour is ⬛️, and I live in 🇨🇦'"
      ]
     },
     "execution_count": 29,
     "metadata": {},
     "output_type": "execute_result"
    }
   ],
   "source": [
    "name = \"Max\"\n",
    "colour = \"⬛️\"\n",
    "country = \"🇨🇦\"\n",
    "\n",
    "f\"Hi, my name is {name}, my favourite colour is {colour}, and I live in {country}\""
   ]
  },
  {
   "cell_type": "code",
   "execution_count": null,
   "id": "9baa6da6",
   "metadata": {},
   "outputs": [],
   "source": []
  },
  {
   "cell_type": "markdown",
   "id": "f9b5942b",
   "metadata": {},
   "source": [
    "### Strings methods\n",
    "\n",
    "Important! Python is case-sensitive."
   ]
  },
  {
   "cell_type": "markdown",
   "id": "75eca3cb",
   "metadata": {},
   "source": [
    "There are a few common ones:\n",
    "\n",
    "- lower()\n",
    "- upper()\n",
    "- title()\n",
    "- find()"
   ]
  },
  {
   "cell_type": "code",
   "execution_count": 54,
   "id": "ab676a46",
   "metadata": {},
   "outputs": [
    {
     "data": {
      "text/plain": [
       "'abcdefghijklmnopqrstuvwxyz'"
      ]
     },
     "execution_count": 54,
     "metadata": {},
     "output_type": "execute_result"
    }
   ],
   "source": [
    "\"ABCDEFGHIJKLMNOPQRSTUVWXYZ\".lower()"
   ]
  },
  {
   "cell_type": "code",
   "execution_count": 39,
   "id": "56d92d78",
   "metadata": {},
   "outputs": [
    {
     "name": "stdout",
     "output_type": "stream",
     "text": [
      "mei ling\n"
     ]
    }
   ],
   "source": [
    "name = 'MEI LING'\n",
    "name_low = name.lower()\n",
    "\n",
    "print(name_low)"
   ]
  },
  {
   "cell_type": "code",
   "execution_count": 40,
   "id": "ac8eaa43",
   "metadata": {},
   "outputs": [
    {
     "name": "stdout",
     "output_type": "stream",
     "text": [
      "MEI LING\n"
     ]
    }
   ],
   "source": [
    "name = 'mei ling'\n",
    "name_up = name.upper()\n",
    "\n",
    "print(name_up)"
   ]
  },
  {
   "cell_type": "code",
   "execution_count": 41,
   "id": "9f397d26",
   "metadata": {},
   "outputs": [
    {
     "name": "stdout",
     "output_type": "stream",
     "text": [
      "Mei Ling\n"
     ]
    }
   ],
   "source": [
    "name = 'mei ling'\n",
    "name_title = name.title()\n",
    "\n",
    "print(name_title)"
   ]
  },
  {
   "cell_type": "code",
   "execution_count": null,
   "id": "b4dc1c27",
   "metadata": {},
   "outputs": [],
   "source": []
  },
  {
   "cell_type": "markdown",
   "id": "0ce6d2b7",
   "metadata": {},
   "source": [
    "You can find the position (i.e., index) of the word in the string. Remember, index starts from 0 in strings."
   ]
  },
  {
   "cell_type": "code",
   "execution_count": 43,
   "id": "5ae9c3c2",
   "metadata": {},
   "outputs": [
    {
     "name": "stdout",
     "output_type": "stream",
     "text": [
      "-1\n"
     ]
    }
   ],
   "source": [
    "text = 'Hi, my name is Mei Ling.'\n",
    "\n",
    "text_position = text.find('mei')\n",
    "print(text_position)"
   ]
  },
  {
   "cell_type": "code",
   "execution_count": 45,
   "id": "e4aa0de7",
   "metadata": {},
   "outputs": [
    {
     "name": "stdout",
     "output_type": "stream",
     "text": [
      "15\n"
     ]
    }
   ],
   "source": [
    "text = 'Hi, my name is Mei Ling.'\n",
    "\n",
    "Mei_position = text.find('Mei')\n",
    "print(Mei_position)"
   ]
  },
  {
   "cell_type": "code",
   "execution_count": 46,
   "id": "00a7c804",
   "metadata": {},
   "outputs": [
    {
     "name": "stdout",
     "output_type": "stream",
     "text": [
      "0\n"
     ]
    }
   ],
   "source": [
    "text = 'Hi, my name is Mei Ling.'\n",
    "\n",
    "hi_position = text.find('Hi')\n",
    "print(hi_position)"
   ]
  },
  {
   "cell_type": "markdown",
   "id": "9346872a",
   "metadata": {},
   "source": [
    "### `in`"
   ]
  },
  {
   "cell_type": "code",
   "execution_count": 56,
   "id": "66610d2e",
   "metadata": {},
   "outputs": [
    {
     "data": {
      "text/plain": [
       "False"
      ]
     },
     "execution_count": 56,
     "metadata": {},
     "output_type": "execute_result"
    }
   ],
   "source": [
    "text = 'Hi, my name is Mei Ling.'\n",
    "\n",
    "'mei' in text"
   ]
  },
  {
   "cell_type": "code",
   "execution_count": 57,
   "id": "fc773b18",
   "metadata": {},
   "outputs": [
    {
     "data": {
      "text/plain": [
       "True"
      ]
     },
     "execution_count": 57,
     "metadata": {},
     "output_type": "execute_result"
    }
   ],
   "source": [
    "text = 'Hi, my name is Mei Ling.'\n",
    "\n",
    "'Mei' in text"
   ]
  },
  {
   "cell_type": "markdown",
   "id": "112d6698",
   "metadata": {},
   "source": [
    "### Slicing\n",
    "How you can slice the letter/word from the strings"
   ]
  },
  {
   "cell_type": "code",
   "execution_count": 49,
   "id": "945f59fa",
   "metadata": {},
   "outputs": [
    {
     "name": "stdout",
     "output_type": "stream",
     "text": [
      "M\n"
     ]
    }
   ],
   "source": [
    "text = 'Hi, my name is Mei Ling.'\n",
    "\n",
    "print(text[15])"
   ]
  },
  {
   "cell_type": "markdown",
   "id": "20ead271",
   "metadata": {},
   "source": [
    "When you slice using range, the text slices [1: n-1]"
   ]
  },
  {
   "cell_type": "code",
   "execution_count": 53,
   "id": "4c933475",
   "metadata": {},
   "outputs": [
    {
     "name": "stdout",
     "output_type": "stream",
     "text": [
      "Mei\n"
     ]
    }
   ],
   "source": [
    "text = 'Hi, my name is Mei Ling.'\n",
    "\n",
    "print(text[15:18])"
   ]
  },
  {
   "cell_type": "code",
   "execution_count": null,
   "id": "ee452b8c",
   "metadata": {},
   "outputs": [],
   "source": []
  }
 ],
 "metadata": {
  "kernelspec": {
   "display_name": "ds_env",
   "language": "python",
   "name": "ds_env"
  },
  "language_info": {
   "codemirror_mode": {
    "name": "ipython",
    "version": 3
   },
   "file_extension": ".py",
   "mimetype": "text/x-python",
   "name": "python",
   "nbconvert_exporter": "python",
   "pygments_lexer": "ipython3",
   "version": "3.10.9"
  }
 },
 "nbformat": 4,
 "nbformat_minor": 5
}
